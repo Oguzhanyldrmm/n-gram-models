{
 "cells": [
  {
   "cell_type": "code",
   "execution_count": 1,
   "id": "2766c105-60e6-4161-9450-391e57202de8",
   "metadata": {},
   "outputs": [],
   "source": [
    "import torch\n",
    "import torch.nn.functional as F\n",
    "import matplotlib.pyplot as plt\n",
    "%matplotlib inline "
   ]
  },
  {
   "cell_type": "code",
   "execution_count": 2,
   "id": "e7175bd7-2e23-48e6-82d0-6e665214c536",
   "metadata": {},
   "outputs": [
    {
     "data": {
      "text/plain": [
       "['emma', 'olivia', 'ava', 'isabella', 'sophia', 'charlotte', 'mia', 'amelia']"
      ]
     },
     "execution_count": 2,
     "metadata": {},
     "output_type": "execute_result"
    }
   ],
   "source": [
    "#read all the words\n",
    "words = open(\"names.txt\", \"r\").read().splitlines()\n",
    "words[:8]"
   ]
  },
  {
   "cell_type": "code",
   "execution_count": 3,
   "id": "f2e39f7b-934a-401c-91e9-cc8285f53c20",
   "metadata": {},
   "outputs": [
    {
     "data": {
      "text/plain": [
       "32033"
      ]
     },
     "execution_count": 3,
     "metadata": {},
     "output_type": "execute_result"
    }
   ],
   "source": [
    "len(words)"
   ]
  },
  {
   "cell_type": "code",
   "execution_count": 4,
   "id": "756e661c-75f9-4b5a-a7e0-32d037ec4a31",
   "metadata": {},
   "outputs": [
    {
     "name": "stdout",
     "output_type": "stream",
     "text": [
      "{1: 'a', 2: 'b', 3: 'c', 4: 'd', 5: 'e', 6: 'f', 7: 'g', 8: 'h', 9: 'i', 10: 'j', 11: 'k', 12: 'l', 13: 'm', 14: 'n', 15: 'o', 16: 'p', 17: 'q', 18: 'r', 19: 's', 20: 't', 21: 'u', 22: 'v', 23: 'w', 24: 'x', 25: 'y', 26: 'z', 0: '.'}\n"
     ]
    }
   ],
   "source": [
    "# build the vocabulary of characters and mappings to/from integers\n",
    "chars = sorted(list(set(''.join(words))))\n",
    "stoi = {s:i+1 for i,s in enumerate(chars)}\n",
    "stoi['.'] = 0\n",
    "itos = {i:s for s,i in stoi.items()}\n",
    "print(itos)"
   ]
  },
  {
   "cell_type": "code",
   "execution_count": 62,
   "id": "c53c6b28-9e2a-4375-b7a0-9c536c264dfe",
   "metadata": {},
   "outputs": [
    {
     "name": "stdout",
     "output_type": "stream",
     "text": [
      "torch.Size([182625, 3]) torch.Size([182625])\n",
      "torch.Size([22655, 3]) torch.Size([22655])\n",
      "torch.Size([22866, 3]) torch.Size([22866])\n"
     ]
    }
   ],
   "source": [
    "# build the dataset\n",
    "\n",
    "def build_dataset(words):\n",
    "    block_size = 3 # context length: how many characters do we take to predict the next one?\n",
    "    X, Y = [], []\n",
    "    for w in words:\n",
    "      \n",
    "      #print(w)\n",
    "      context = [0] * block_size\n",
    "      for ch in w + '.':\n",
    "        ix = stoi[ch]\n",
    "        X.append(context)\n",
    "        Y.append(ix)\n",
    "        #print(''.join(itos[i] for i in context), '--->', itos[ix])\n",
    "        context = context[1:] + [ix] # crop and append\n",
    "\n",
    "    X = torch.tensor(X)\n",
    "    Y = torch.tensor(Y)\n",
    "    print(X.shape, Y.shape)\n",
    "    return X, Y\n",
    "\n",
    "import random \n",
    "random.seed(42)\n",
    "random.shuffle(words)\n",
    "\n",
    "n1 = int(0.8*len(words))\n",
    "n2 = int(0.9*len(words))\n",
    "\n",
    "Xtr, Ytr = build_dataset(words[:n1])\n",
    "Xdev, Ydev = build_dataset(words[n1:n2])\n",
    "Xte, Yte = build_dataset(words[n2:])\n"
   ]
  },
  {
   "cell_type": "code",
   "execution_count": 6,
   "id": "0ea76378-d109-4500-bc44-1906800f6f35",
   "metadata": {},
   "outputs": [
    {
     "data": {
      "text/plain": [
       "(torch.Size([228146, 3]), torch.int64, torch.Size([228146]), torch.int64)"
      ]
     },
     "execution_count": 6,
     "metadata": {},
     "output_type": "execute_result"
    }
   ],
   "source": [
    "X.shape, X.dtype, Y.shape, Y.dtype"
   ]
  },
  {
   "cell_type": "code",
   "execution_count": 7,
   "id": "1a3a1dc8-ee9e-4b2a-a28e-b00c66f46bf3",
   "metadata": {},
   "outputs": [],
   "source": [
    "C = torch.rand((27, 2))"
   ]
  },
  {
   "cell_type": "code",
   "execution_count": 8,
   "id": "9f9891e1-fa64-4532-90cb-77cf0892be6b",
   "metadata": {},
   "outputs": [
    {
     "data": {
      "text/plain": [
       "tensor([0.4589, 0.4954])"
      ]
     },
     "execution_count": 8,
     "metadata": {},
     "output_type": "execute_result"
    }
   ],
   "source": [
    "C[5]"
   ]
  },
  {
   "cell_type": "code",
   "execution_count": 9,
   "id": "f9879f4e-8cae-4360-a389-1eab151b470b",
   "metadata": {},
   "outputs": [
    {
     "data": {
      "text/plain": [
       "tensor([0.4589, 0.4954])"
      ]
     },
     "execution_count": 9,
     "metadata": {},
     "output_type": "execute_result"
    }
   ],
   "source": [
    "F.one_hot(torch.tensor(5), num_classes=27).float() @ C"
   ]
  },
  {
   "cell_type": "code",
   "execution_count": 10,
   "id": "54923823-791c-42e6-83dc-bdb68d24cd04",
   "metadata": {},
   "outputs": [
    {
     "data": {
      "text/plain": [
       "torch.Size([32, 3, 2])"
      ]
     },
     "execution_count": 10,
     "metadata": {},
     "output_type": "execute_result"
    }
   ],
   "source": [
    "C[X].shape"
   ]
  },
  {
   "cell_type": "code",
   "execution_count": 11,
   "id": "df6b0173-2a27-4f67-ab2b-6158fd8da3da",
   "metadata": {},
   "outputs": [
    {
     "data": {
      "text/plain": [
       "tensor(1)"
      ]
     },
     "execution_count": 11,
     "metadata": {},
     "output_type": "execute_result"
    }
   ],
   "source": [
    "X[13,2]"
   ]
  },
  {
   "cell_type": "code",
   "execution_count": 12,
   "id": "55c9204f-5fab-42b7-bcf5-9de6f27c36cc",
   "metadata": {},
   "outputs": [
    {
     "data": {
      "text/plain": [
       "tensor([0.6268, 0.3961])"
      ]
     },
     "execution_count": 12,
     "metadata": {},
     "output_type": "execute_result"
    }
   ],
   "source": [
    "  C[X][13,2]"
   ]
  },
  {
   "cell_type": "code",
   "execution_count": 13,
   "id": "a168279f-1718-400e-92fc-b58c61733c2f",
   "metadata": {},
   "outputs": [
    {
     "data": {
      "text/plain": [
       "tensor([0.6268, 0.3961])"
      ]
     },
     "execution_count": 13,
     "metadata": {},
     "output_type": "execute_result"
    }
   ],
   "source": [
    "C[1]"
   ]
  },
  {
   "cell_type": "code",
   "execution_count": 14,
   "id": "aef51e2d-9a26-46c5-90b4-46d64a5d4c1b",
   "metadata": {},
   "outputs": [
    {
     "data": {
      "text/plain": [
       "torch.Size([32, 3, 2])"
      ]
     },
     "execution_count": 14,
     "metadata": {},
     "output_type": "execute_result"
    }
   ],
   "source": [
    "emb = C[X]\n",
    "emb.shape"
   ]
  },
  {
   "cell_type": "code",
   "execution_count": 15,
   "id": "e4a9c414-9f5c-4242-8ab3-c3d7d3096e49",
   "metadata": {},
   "outputs": [],
   "source": [
    "W1 = torch.rand((6, 100))\n",
    "b1 = torch.rand(100)"
   ]
  },
  {
   "cell_type": "code",
   "execution_count": 16,
   "id": "ad5932eb-f841-467e-a853-def00aaafb75",
   "metadata": {},
   "outputs": [
    {
     "data": {
      "text/plain": [
       "torch.Size([32, 6])"
      ]
     },
     "execution_count": 16,
     "metadata": {},
     "output_type": "execute_result"
    }
   ],
   "source": [
    "torch.cat([emb[:, 0, :], emb[:, 0, :], emb[:, 0, :]], 1).shape"
   ]
  },
  {
   "cell_type": "code",
   "execution_count": 17,
   "id": "f0b8ac4d-7964-45c4-9165-d5e94730a239",
   "metadata": {},
   "outputs": [
    {
     "data": {
      "text/plain": [
       "torch.Size([32, 6])"
      ]
     },
     "execution_count": 17,
     "metadata": {},
     "output_type": "execute_result"
    }
   ],
   "source": [
    "torch.cat(torch.unbind(emb, 1), 1).shape"
   ]
  },
  {
   "cell_type": "code",
   "execution_count": 18,
   "id": "03d2584c-2478-48cb-acc7-3f5ad3a8d20a",
   "metadata": {},
   "outputs": [
    {
     "data": {
      "text/plain": [
       "torch.Size([32, 3, 2])"
      ]
     },
     "execution_count": 18,
     "metadata": {},
     "output_type": "execute_result"
    }
   ],
   "source": [
    "emb.shape"
   ]
  },
  {
   "cell_type": "code",
   "execution_count": 19,
   "id": "d3d8beae-a6fd-41d1-8923-d0fb8bf81435",
   "metadata": {},
   "outputs": [
    {
     "data": {
      "text/plain": [
       "tensor([[0.1730, 0.7028, 0.1730, 0.7028, 0.1730, 0.7028],\n",
       "        [0.1730, 0.7028, 0.1730, 0.7028, 0.4589, 0.4954],\n",
       "        [0.1730, 0.7028, 0.4589, 0.4954, 0.3719, 0.1507],\n",
       "        [0.4589, 0.4954, 0.3719, 0.1507, 0.3719, 0.1507],\n",
       "        [0.3719, 0.1507, 0.3719, 0.1507, 0.6268, 0.3961],\n",
       "        [0.1730, 0.7028, 0.1730, 0.7028, 0.1730, 0.7028],\n",
       "        [0.1730, 0.7028, 0.1730, 0.7028, 0.1566, 0.5631],\n",
       "        [0.1730, 0.7028, 0.1566, 0.5631, 0.8319, 0.3876],\n",
       "        [0.1566, 0.5631, 0.8319, 0.3876, 0.9549, 0.3676],\n",
       "        [0.8319, 0.3876, 0.9549, 0.3676, 0.5183, 0.6070],\n",
       "        [0.9549, 0.3676, 0.5183, 0.6070, 0.9549, 0.3676],\n",
       "        [0.5183, 0.6070, 0.9549, 0.3676, 0.6268, 0.3961],\n",
       "        [0.1730, 0.7028, 0.1730, 0.7028, 0.1730, 0.7028],\n",
       "        [0.1730, 0.7028, 0.1730, 0.7028, 0.6268, 0.3961],\n",
       "        [0.1730, 0.7028, 0.6268, 0.3961, 0.5183, 0.6070],\n",
       "        [0.6268, 0.3961, 0.5183, 0.6070, 0.6268, 0.3961],\n",
       "        [0.1730, 0.7028, 0.1730, 0.7028, 0.1730, 0.7028],\n",
       "        [0.1730, 0.7028, 0.1730, 0.7028, 0.9549, 0.3676],\n",
       "        [0.1730, 0.7028, 0.9549, 0.3676, 0.8312, 0.2162],\n",
       "        [0.9549, 0.3676, 0.8312, 0.2162, 0.6268, 0.3961],\n",
       "        [0.8312, 0.2162, 0.6268, 0.3961, 0.1445, 0.2859],\n",
       "        [0.6268, 0.3961, 0.1445, 0.2859, 0.4589, 0.4954],\n",
       "        [0.1445, 0.2859, 0.4589, 0.4954, 0.8319, 0.3876],\n",
       "        [0.4589, 0.4954, 0.8319, 0.3876, 0.8319, 0.3876],\n",
       "        [0.8319, 0.3876, 0.8319, 0.3876, 0.6268, 0.3961],\n",
       "        [0.1730, 0.7028, 0.1730, 0.7028, 0.1730, 0.7028],\n",
       "        [0.1730, 0.7028, 0.1730, 0.7028, 0.8312, 0.2162],\n",
       "        [0.1730, 0.7028, 0.8312, 0.2162, 0.1566, 0.5631],\n",
       "        [0.8312, 0.2162, 0.1566, 0.5631, 0.4375, 0.2466],\n",
       "        [0.1566, 0.5631, 0.4375, 0.2466, 0.9751, 0.1851],\n",
       "        [0.4375, 0.2466, 0.9751, 0.1851, 0.9549, 0.3676],\n",
       "        [0.9751, 0.1851, 0.9549, 0.3676, 0.6268, 0.3961]])"
      ]
     },
     "execution_count": 19,
     "metadata": {},
     "output_type": "execute_result"
    }
   ],
   "source": [
    "emb.view(32, 6)"
   ]
  },
  {
   "cell_type": "code",
   "execution_count": 20,
   "id": "28d40ff5-3fdf-445b-be50-994cfe0b093e",
   "metadata": {},
   "outputs": [],
   "source": [
    "h = torch.tanh(emb.view(-1, 6) @ W1 + b1)"
   ]
  },
  {
   "cell_type": "code",
   "execution_count": 21,
   "id": "a8e3769d-9070-4126-bc4d-48414fc05d5f",
   "metadata": {},
   "outputs": [
    {
     "data": {
      "text/plain": [
       "tensor([[0.9809, 0.8749, 0.9444,  ..., 0.9271, 0.9911, 0.9573],\n",
       "        [0.9785, 0.8917, 0.9599,  ..., 0.9545, 0.9923, 0.9709],\n",
       "        [0.9724, 0.8429, 0.9557,  ..., 0.9496, 0.9844, 0.9587],\n",
       "        ...,\n",
       "        [0.9600, 0.9456, 0.9662,  ..., 0.9755, 0.9933, 0.9796],\n",
       "        [0.9817, 0.9827, 0.9766,  ..., 0.9623, 0.9975, 0.9913],\n",
       "        [0.9926, 0.9783, 0.9721,  ..., 0.9312, 0.9977, 0.9910]])"
      ]
     },
     "execution_count": 21,
     "metadata": {},
     "output_type": "execute_result"
    }
   ],
   "source": [
    "h"
   ]
  },
  {
   "cell_type": "code",
   "execution_count": 22,
   "id": "11110b34-04d4-4694-abd9-27f08ca64cc4",
   "metadata": {},
   "outputs": [
    {
     "data": {
      "text/plain": [
       "torch.Size([32, 100])"
      ]
     },
     "execution_count": 22,
     "metadata": {},
     "output_type": "execute_result"
    }
   ],
   "source": [
    "h.shape"
   ]
  },
  {
   "cell_type": "code",
   "execution_count": 23,
   "id": "abbe4022-27a1-4cbe-a4c9-6874b35ecd14",
   "metadata": {},
   "outputs": [],
   "source": [
    "W2 = torch.rand((100, 27))\n",
    "b2 = torch.rand(27)"
   ]
  },
  {
   "cell_type": "code",
   "execution_count": 24,
   "id": "7b7ec6dd-bd7a-4584-a67d-afc6467aecd7",
   "metadata": {},
   "outputs": [],
   "source": [
    "logits = h @ W2 + b2"
   ]
  },
  {
   "cell_type": "code",
   "execution_count": 25,
   "id": "821884b0-4561-412d-9ba0-bf0bcaa5d929",
   "metadata": {},
   "outputs": [
    {
     "data": {
      "text/plain": [
       "torch.Size([32, 27])"
      ]
     },
     "execution_count": 25,
     "metadata": {},
     "output_type": "execute_result"
    }
   ],
   "source": [
    "logits.shape"
   ]
  },
  {
   "cell_type": "code",
   "execution_count": 26,
   "id": "000c30cc-ae45-45a7-ab00-6079cc967cd3",
   "metadata": {},
   "outputs": [],
   "source": [
    "counts = logits.exp()"
   ]
  },
  {
   "cell_type": "code",
   "execution_count": 27,
   "id": "8cda660a-778d-45de-bd39-2f39f26dd53a",
   "metadata": {},
   "outputs": [],
   "source": [
    "prob = counts / counts.sum(1, keepdims=True)"
   ]
  },
  {
   "cell_type": "code",
   "execution_count": 28,
   "id": "fa7e3c73-1cde-4d19-b254-db27b1aedc2c",
   "metadata": {},
   "outputs": [
    {
     "data": {
      "text/plain": [
       "torch.Size([32, 27])"
      ]
     },
     "execution_count": 28,
     "metadata": {},
     "output_type": "execute_result"
    }
   ],
   "source": [
    "prob.shape"
   ]
  },
  {
   "cell_type": "code",
   "execution_count": 29,
   "id": "9522ed7a-c524-4fe5-95a6-319eaa64d181",
   "metadata": {},
   "outputs": [
    {
     "data": {
      "text/plain": [
       "tensor(1.0000)"
      ]
     },
     "execution_count": 29,
     "metadata": {},
     "output_type": "execute_result"
    }
   ],
   "source": [
    "prob[0].sum()"
   ]
  },
  {
   "cell_type": "code",
   "execution_count": 30,
   "id": "f6bcb4ef-3fe9-41cb-b684-c14d2431a0a1",
   "metadata": {},
   "outputs": [
    {
     "data": {
      "text/plain": [
       "tensor([ 0,  1,  2,  3,  4,  5,  6,  7,  8,  9, 10, 11, 12, 13, 14, 15, 16, 17,\n",
       "        18, 19, 20, 21, 22, 23, 24, 25, 26, 27, 28, 29, 30, 31])"
      ]
     },
     "execution_count": 30,
     "metadata": {},
     "output_type": "execute_result"
    }
   ],
   "source": [
    "torch.arange(32)"
   ]
  },
  {
   "cell_type": "code",
   "execution_count": 31,
   "id": "e2ffe9dd-505e-45ab-b296-7279b685ac60",
   "metadata": {},
   "outputs": [
    {
     "data": {
      "text/plain": [
       "torch.Size([32])"
      ]
     },
     "execution_count": 31,
     "metadata": {},
     "output_type": "execute_result"
    }
   ],
   "source": [
    "prob[torch.arange(32), Y].shape"
   ]
  },
  {
   "cell_type": "code",
   "execution_count": 32,
   "id": "c3dc0af4-d695-4e57-a03b-f5149c199c07",
   "metadata": {},
   "outputs": [
    {
     "data": {
      "text/plain": [
       "tensor(5.4556)"
      ]
     },
     "execution_count": 32,
     "metadata": {},
     "output_type": "execute_result"
    }
   ],
   "source": [
    "loss = -prob[torch.arange(32), Y].log().mean()\n",
    "loss"
   ]
  },
  {
   "cell_type": "code",
   "execution_count": 33,
   "id": "ca55b17a-0642-49cc-a9a5-0e77dce2c73f",
   "metadata": {},
   "outputs": [],
   "source": [
    "#----------- more clear everything in here ---------"
   ]
  },
  {
   "cell_type": "code",
   "execution_count": 63,
   "id": "42d7a5c6-760b-4b7d-a2bc-2c02c26cfdaa",
   "metadata": {},
   "outputs": [
    {
     "data": {
      "text/plain": [
       "(torch.Size([182625, 3]), torch.Size([182625]))"
      ]
     },
     "execution_count": 63,
     "metadata": {},
     "output_type": "execute_result"
    }
   ],
   "source": [
    "Xtr.shape, Ytr.shape # datasets"
   ]
  },
  {
   "cell_type": "code",
   "execution_count": 123,
   "id": "49628a97-4d57-4661-857f-972f8f379f6f",
   "metadata": {},
   "outputs": [],
   "source": [
    "g = torch.Generator().manual_seed(2147482647)\n",
    "C = torch.rand((27, 10), generator=g)\n",
    "W1 = torch.rand((30, 500), generator=g)\n",
    "b1 = torch.rand(500, generator=g)\n",
    "W2 = torch.rand((500, 27), generator=g)\n",
    "b2 = torch.rand(27, generator=g)\n",
    "parameters = [C, W1, b1, W2, b2]"
   ]
  },
  {
   "cell_type": "code",
   "execution_count": 124,
   "id": "b7088ebc-81f0-4f01-a522-3d56419d3b78",
   "metadata": {},
   "outputs": [
    {
     "data": {
      "text/plain": [
       "29297"
      ]
     },
     "execution_count": 124,
     "metadata": {},
     "output_type": "execute_result"
    }
   ],
   "source": [
    "sum(p.nelement() for p in parameters) # number of parameters total"
   ]
  },
  {
   "cell_type": "code",
   "execution_count": null,
   "id": "dfef7c02-339f-4cd3-bfb4-0b59a9e3ac81",
   "metadata": {},
   "outputs": [],
   "source": [
    "emb = C[X] # (32, 3, 2)\n",
    "h = torch.tanh(emb.view(-1, 6) @ W1 + b1) # (32, 100)\n",
    "logits = h @ W2 + b2 # (32, 27)\n",
    "counts = logits.exp()\n",
    "prob = counts / counts.sum(1, keepdims=True)\n",
    "loss = -prob[torch.arange(32), Y].log().mean()\n",
    "loss"
   ]
  },
  {
   "cell_type": "code",
   "execution_count": null,
   "id": "c32e09a5-d118-4104-80f7-c1a33fa94ec9",
   "metadata": {},
   "outputs": [],
   "source": [
    "F.cross_entropy(logits, Y)\n",
    "# loss için yukarıdaki adımları yaparken pytorch yeni tensorler yaratır ve memoryden yer onun yerine cross entropy çok da efficient"
   ]
  },
  {
   "cell_type": "code",
   "execution_count": 125,
   "id": "90c434bf-6d8e-462c-a6d4-f307d844e311",
   "metadata": {},
   "outputs": [],
   "source": [
    "for p in parameters:\n",
    "    p.requires_grad = True"
   ]
  },
  {
   "cell_type": "code",
   "execution_count": 67,
   "id": "7072ab11-e271-4b72-a6dd-0a24fa6da537",
   "metadata": {},
   "outputs": [],
   "source": [
    "lre = torch.linspace(-3, 0, 1000)\n",
    "lrs = 10**lre"
   ]
  },
  {
   "cell_type": "code",
   "execution_count": 126,
   "id": "26574992-4f2f-47c6-8022-139daf76ab21",
   "metadata": {},
   "outputs": [],
   "source": [
    "lri = []\n",
    "lossi = []\n",
    "stepi = []"
   ]
  },
  {
   "cell_type": "code",
   "execution_count": 145,
   "id": "05c3220b-0467-4fbb-ad8b-9023e00a70c5",
   "metadata": {},
   "outputs": [],
   "source": [
    "\n",
    "for i in range(200000):\n",
    "\n",
    "    # minibatches\n",
    "    ix = torch.randint(0, Xtr.shape[0], (32,))\n",
    "    # forward pass\n",
    "    emb = C[Xtr[ix]] # (32, 3, 2) ----> (32, 3, 10)\n",
    "    h = torch.tanh(emb.view(-1, 30) @ W1 + b1) # (32, 100)\n",
    "    logits = h @ W2 + b2 # (32, 27)\n",
    "    loss = F.cross_entropy(logits, Ytr[ix])\n",
    "    #print(loss.item())\n",
    "    \n",
    "    # backward pass\n",
    "    for p in parameters:\n",
    "        p.grad = None\n",
    "    loss.backward()\n",
    "    \n",
    "    # update\n",
    "    #lr = lrs[i]\n",
    "    lr = 0.01\n",
    "    for p in parameters:\n",
    "        p.data += -lr * p.grad\n",
    "\n",
    "    # track\n",
    "    #lri.append(lr)\n",
    "    stepi.append(i)\n",
    "    lossi.append(loss.log10().item())\n",
    "\n"
   ]
  },
  {
   "cell_type": "code",
   "execution_count": 146,
   "id": "0e00f502-3cd2-40b1-ad31-c3ca07cbe784",
   "metadata": {},
   "outputs": [
    {
     "data": {
      "text/plain": [
       "tensor(2.0178, grad_fn=<NllLossBackward0>)"
      ]
     },
     "execution_count": 146,
     "metadata": {},
     "output_type": "execute_result"
    }
   ],
   "source": [
    "emb = C[Xtr] # (32, 3, 2)\n",
    "h = torch.tanh(emb.view(-1, 30) @ W1 + b1) # (32, 100)\n",
    "logits = h @ W2 + b2 # (32, 27)\n",
    "loss = F.cross_entropy(logits, Ytr)\n",
    "loss"
   ]
  },
  {
   "cell_type": "code",
   "execution_count": 147,
   "id": "e8ad6391-1e9a-42a8-b450-d013f5c8f1d2",
   "metadata": {},
   "outputs": [
    {
     "data": {
      "text/plain": [
       "tensor(2.1032, grad_fn=<NllLossBackward0>)"
      ]
     },
     "execution_count": 147,
     "metadata": {},
     "output_type": "execute_result"
    }
   ],
   "source": [
    "emb = C[Xdev] # (32, 3, 2)\n",
    "h = torch.tanh(emb.view(-1, 30) @ W1 + b1) # (32, 100)\n",
    "logits = h @ W2 + b2 # (32, 27)\n",
    "loss = F.cross_entropy(logits, Ydev)\n",
    "loss"
   ]
  },
  {
   "cell_type": "code",
   "execution_count": 148,
   "id": "9e6c8265-12fd-4244-90ca-c55438d95522",
   "metadata": {},
   "outputs": [
    {
     "data": {
      "text/plain": [
       "[<matplotlib.lines.Line2D at 0x1b1813bfa90>]"
      ]
     },
     "execution_count": 148,
     "metadata": {},
     "output_type": "execute_result"
    },
    {
     "data": {
      "image/png": "[encoded data removed]",
      "text/plain": [
       "<Figure size 640x480 with 1 Axes>"
      ]
     },
     "metadata": {},
     "output_type": "display_data"
    }
   ],
   "source": [
    "plt.plot(stepi, lossi)"
   ]
  },
  {
   "cell_type": "code",
   "execution_count": 82,
   "id": "2f4804be-fc39-469e-981a-affcf77ff13c",
   "metadata": {},
   "outputs": [
    {
     "data": {
      "image/png": "[encoded data removed]",
      "text/plain": [
       "<Figure size 800x800 with 1 Axes>"
      ]
     },
     "metadata": {},
     "output_type": "display_data"
    }
   ],
   "source": [
    "# visualize dimensions 0 and 1 of the embedding matrix C for all characters\n",
    "plt.figure(figsize=(8,8))\n",
    "plt.scatter(C[:,0].data, C[:,1].data, s=200)\n",
    "for i in range(C.shape[0]):\n",
    "    plt.text(C[i,0].item(), C[i,1].item(), itos[i], ha=\"center\", va=\"center\", color='white')\n",
    "plt.grid('minor')\n",
    "\n",
    "# word embeddings locations says that near words can be use interchangebly"
   ]
  },
  {
   "cell_type": "code",
   "execution_count": 149,
   "id": "c5d728fa-d3f7-4918-b778-3978f9b4107f",
   "metadata": {},
   "outputs": [
    {
     "name": "stdout",
     "output_type": "stream",
     "text": [
      "montaymeaz.\n",
      "seel.\n",
      "ndhry.\n",
      "larethretteg.\n",
      "leg.\n",
      "azelynnelin.\n",
      "shi.\n",
      "jenne.\n",
      "elionna.\n",
      "arleiyah.\n",
      "houra.\n",
      "noshubrighairiel.\n",
      "kin.\n",
      "renleilanie.\n",
      "cayu.\n",
      "zayven.\n",
      "kylene.\n",
      "els.\n",
      "kayshaykolanihaan.\n",
      "alynn.\n"
     ]
    }
   ],
   "source": [
    "# sample from the model\n",
    "g = torch.Generator().manual_seed(2147483647 + 10)\n",
    "\n",
    "for _ in range(20):\n",
    "    \n",
    "    out = []\n",
    "    context = [0] * block_size # initialize with all ...\n",
    "    while True:\n",
    "      emb = C[torch.tensor([context])] # (1,block_size,d)\n",
    "      h = torch.tanh(emb.view(1, -1) @ W1 + b1)\n",
    "      logits = h @ W2 + b2\n",
    "      probs = F.softmax(logits, dim=1)\n",
    "      ix = torch.multinomial(probs, num_samples=1, generator=g).item()\n",
    "      context = context[1:] + [ix]\n",
    "      out.append(ix)\n",
    "      if ix == 0:\n",
    "        break\n",
    "    \n",
    "    print(''.join(itos[i] for i in out))"
   ]
  },
  {
   "cell_type": "code",
   "execution_count": null,
   "id": "28917279-2d3a-467b-80a0-539c3f1418d6",
   "metadata": {},
   "outputs": [],
   "source": []
  }
 ],
 "metadata": {
  "kernelspec": {
   "display_name": "Python 3 (ipykernel)",
   "language": "python",
   "name": "python3"
  },
  "language_info": {
   "codemirror_mode": {
    "name": "ipython",
    "version": 3
   },
   "file_extension": ".py",
   "mimetype": "text/x-python",
   "name": "python",
   "nbconvert_exporter": "python",
   "pygments_lexer": "ipython3",
   "version": "3.9.13"
  }
 },
 "nbformat": 4,
 "nbformat_minor": 5
}
